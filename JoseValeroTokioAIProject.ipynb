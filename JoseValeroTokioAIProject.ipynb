{
 "cells": [
  {
   "cell_type": "markdown",
   "id": "8191bcbf",
   "metadata": {},
   "source": [
    "# Proyecto Inteligencia Artificial\n",
    "\n",
    "### Jose Antonio Valero\n",
    "\n",
    "El objetivo del proyecto es analizar un dataset acerca de créditos aprobados por un banco a distintos individuos y crear un modelo que sea capaz de predecir con precisión si se otorgaria el crédito o no.\n",
    "\n",
    "Dataset extraido de Kaggle (https://www.kaggle.com/datasets/samuelcortinhas/credit-card-approval-clean-data)\n",
    "Este data-set está ya limpio, aunque realizaremos varias modificaciones sobre el mismo.\n",
    "El data-set original se puede encontrar en: (https://archive.ics.uci.edu/ml/datasets/Credit+Approval?msclkid=200008bdc4a311ec9f500a3245a2bfb1)\n"
   ]
  },
  {
   "cell_type": "code",
   "execution_count": 25,
   "id": "69adf1ed",
   "metadata": {},
   "outputs": [],
   "source": [
    "#Imports\n",
    "\n",
    "# Análisis de datos\n",
    "import pandas as pd\n",
    "import numpy as np\n",
    "import random as rnd\n",
    "\n",
    "# Visualización\n",
    "import seaborn as sns\n",
    "import matplotlib.pyplot as plt\n",
    "%matplotlib inline\n",
    "\n",
    "#\n",
    "from sklearn.metrics import roc_auc_score\n",
    "from sklearn.cluster import KMeans\n",
    "from sklearn.metrics import pairwise_distances_argmin_min\n",
    "from sklearn.metrics import classification_report, confusion_matrix\n",
    "from sklearn.svm import SVC\n",
    "from sklearn.model_selection import train_test_split\n",
    "from sklearn import preprocessing\n",
    "from sklearn.linear_model import LogisticRegression\n",
    "from sklearn.svm import SVC, LinearSVC\n",
    "from sklearn.ensemble import RandomForestClassifier\n",
    "from sklearn.neighbors import KNeighborsClassifier\n",
    "from sklearn.naive_bayes import GaussianNB\n",
    "from sklearn.linear_model import Perceptron\n",
    "from sklearn.linear_model import SGDClassifier\n",
    "from sklearn.tree import DecisionTreeClassifier\n",
    "from sklearn.metrics import confusion_matrix\n",
    "from sklearn.metrics import classification_report\n",
    "from sklearn.model_selection import train_test_split\n",
    "from sklearn.linear_model import LogisticRegression\n",
    "from sklearn.decomposition import PCA\n",
    "from sklearn.tree import DecisionTreeClassifier\n",
    "\n",
    "from pylab import rcParams\n",
    "from collections import Counter"
   ]
  },
  {
   "cell_type": "code",
   "execution_count": 26,
   "id": "ca9d9636",
   "metadata": {},
   "outputs": [
    {
     "name": "stdout",
     "output_type": "stream",
     "text": [
      "['Gender' 'Age' 'Debt' 'Married' 'BankCustomer' 'Industry' 'Ethnicity'\n",
      " 'YearsEmployed' 'PriorDefault' 'Employed' 'CreditScore' 'DriversLicense'\n",
      " 'Citizen' 'ZipCode' 'Income' 'Approved']\n"
     ]
    }
   ],
   "source": [
    "#Empezamos cargando el dataset\n",
    "\n",
    "df = pd.read_csv(r\"clean_dataset.csv\",sep=',')\n",
    "print(df.columns.values)"
   ]
  },
  {
   "cell_type": "markdown",
   "id": "14e32901",
   "metadata": {},
   "source": [
    "- Gender--> Sexo\n",
    "- Age--> Edad\n",
    "- Debt--> Deuda pendiente\n",
    "- Married--> Si está casado o no\n",
    "- BankCustomer--> Si el individuo es cliente del banco\n",
    "- Industry--> Sector en el que trabaja el individuo\n",
    "- Ethnicity--> Etnia del individuo\n",
    "- YearsEmployed--> Cuantos años lleva trabajando en su actual empresa\n",
    "- PriorDefault--> Si el individuo ha fallado en los pagos de un préstamos previamente\n",
    "- Employed--> Si el individuo trabaja actualmente\n",
    "- CreditScore--> Puntuación de crédito\n",
    "- DriverLicense--> Si el individuo tiene carnet de conducir\n",
    "- Citizen--> Si el individuo es ciudadano por nacimiento, por otros medios o temporal\n",
    "- ZipCode--> Código postal\n",
    "- Income--> Ingresos (Escalados)\n",
    "- Aproved--> Si le han aprobado el crédito o no"
   ]
  },
  {
   "cell_type": "code",
   "execution_count": 27,
   "id": "cec319c5",
   "metadata": {},
   "outputs": [
    {
     "name": "stdout",
     "output_type": "stream",
     "text": [
      "   Gender    Age   Debt  Married  BankCustomer     Industry Ethnicity  \\\n",
      "0       1  30.83  0.000        1             1  Industrials     White   \n",
      "1       0  58.67  4.460        1             1    Materials     Black   \n",
      "2       0  24.50  0.500        1             1    Materials     Black   \n",
      "3       1  27.83  1.540        1             1  Industrials     White   \n",
      "4       1  20.17  5.625        1             1  Industrials     White   \n",
      "\n",
      "   YearsEmployed  PriorDefault  Employed  CreditScore  DriversLicense  \\\n",
      "0           1.25             1         1            1               0   \n",
      "1           3.04             1         1            6               0   \n",
      "2           1.50             1         0            0               0   \n",
      "3           3.75             1         1            5               1   \n",
      "4           1.71             1         0            0               0   \n",
      "\n",
      "        Citizen  ZipCode  Income  Approved  \n",
      "0       ByBirth      202       0         1  \n",
      "1       ByBirth       43     560         1  \n",
      "2       ByBirth      280     824         1  \n",
      "3       ByBirth      100       3         1  \n",
      "4  ByOtherMeans      120       0         1  \n",
      "____________________________________________________________\n",
      "<class 'pandas.core.frame.DataFrame'>\n",
      "RangeIndex: 690 entries, 0 to 689\n",
      "Data columns (total 16 columns):\n",
      " #   Column          Non-Null Count  Dtype  \n",
      "---  ------          --------------  -----  \n",
      " 0   Gender          690 non-null    int64  \n",
      " 1   Age             690 non-null    float64\n",
      " 2   Debt            690 non-null    float64\n",
      " 3   Married         690 non-null    int64  \n",
      " 4   BankCustomer    690 non-null    int64  \n",
      " 5   Industry        690 non-null    object \n",
      " 6   Ethnicity       690 non-null    object \n",
      " 7   YearsEmployed   690 non-null    float64\n",
      " 8   PriorDefault    690 non-null    int64  \n",
      " 9   Employed        690 non-null    int64  \n",
      " 10  CreditScore     690 non-null    int64  \n",
      " 11  DriversLicense  690 non-null    int64  \n",
      " 12  Citizen         690 non-null    object \n",
      " 13  ZipCode         690 non-null    int64  \n",
      " 14  Income          690 non-null    int64  \n",
      " 15  Approved        690 non-null    int64  \n",
      "dtypes: float64(3), int64(10), object(3)\n",
      "memory usage: 86.4+ KB\n"
     ]
    }
   ],
   "source": [
    "#comprobamos los datos\n",
    "\n",
    "print(df.head())\n",
    "print(\"_\"*60)\n",
    "\n",
    "df.info()"
   ]
  },
  {
   "cell_type": "markdown",
   "id": "16bf6510",
   "metadata": {},
   "source": [
    "Como podemos observar en el apartado anterior no hay valores nulos.\n",
    "Pero observando el dataset, podemos realizar varios cambios:\n",
    "1- Eliminar la columna DriversLicense, ya que nos resulta irrelevante.\n",
    "2- Transformar las características categóricas a cuantitativas para facilitar el trabajo al modelo\n",
    "    Estas son: Industry,Ethnicity y Citizen\n",
    "3- Agrupar en tramos: \n",
    "    Age, Debt, YearsEmployed, Income, ZipCode"
   ]
  },
  {
   "cell_type": "code",
   "execution_count": 28,
   "id": "1c373054",
   "metadata": {},
   "outputs": [
    {
     "data": {
      "text/html": [
       "<div>\n",
       "<style scoped>\n",
       "    .dataframe tbody tr th:only-of-type {\n",
       "        vertical-align: middle;\n",
       "    }\n",
       "\n",
       "    .dataframe tbody tr th {\n",
       "        vertical-align: top;\n",
       "    }\n",
       "\n",
       "    .dataframe thead th {\n",
       "        text-align: right;\n",
       "    }\n",
       "</style>\n",
       "<table border=\"1\" class=\"dataframe\">\n",
       "  <thead>\n",
       "    <tr style=\"text-align: right;\">\n",
       "      <th></th>\n",
       "      <th>Gender</th>\n",
       "      <th>Age</th>\n",
       "      <th>Debt</th>\n",
       "      <th>Married</th>\n",
       "      <th>BankCustomer</th>\n",
       "      <th>Industry</th>\n",
       "      <th>Ethnicity</th>\n",
       "      <th>YearsEmployed</th>\n",
       "      <th>PriorDefault</th>\n",
       "      <th>Employed</th>\n",
       "      <th>CreditScore</th>\n",
       "      <th>Citizen</th>\n",
       "      <th>ZipCode</th>\n",
       "      <th>Income</th>\n",
       "      <th>Approved</th>\n",
       "    </tr>\n",
       "  </thead>\n",
       "  <tbody>\n",
       "    <tr>\n",
       "      <th>0</th>\n",
       "      <td>1</td>\n",
       "      <td>30.83</td>\n",
       "      <td>0.000</td>\n",
       "      <td>1</td>\n",
       "      <td>1</td>\n",
       "      <td>Industrials</td>\n",
       "      <td>White</td>\n",
       "      <td>1.25</td>\n",
       "      <td>1</td>\n",
       "      <td>1</td>\n",
       "      <td>1</td>\n",
       "      <td>ByBirth</td>\n",
       "      <td>202</td>\n",
       "      <td>0</td>\n",
       "      <td>1</td>\n",
       "    </tr>\n",
       "    <tr>\n",
       "      <th>1</th>\n",
       "      <td>0</td>\n",
       "      <td>58.67</td>\n",
       "      <td>4.460</td>\n",
       "      <td>1</td>\n",
       "      <td>1</td>\n",
       "      <td>Materials</td>\n",
       "      <td>Black</td>\n",
       "      <td>3.04</td>\n",
       "      <td>1</td>\n",
       "      <td>1</td>\n",
       "      <td>6</td>\n",
       "      <td>ByBirth</td>\n",
       "      <td>43</td>\n",
       "      <td>560</td>\n",
       "      <td>1</td>\n",
       "    </tr>\n",
       "    <tr>\n",
       "      <th>2</th>\n",
       "      <td>0</td>\n",
       "      <td>24.50</td>\n",
       "      <td>0.500</td>\n",
       "      <td>1</td>\n",
       "      <td>1</td>\n",
       "      <td>Materials</td>\n",
       "      <td>Black</td>\n",
       "      <td>1.50</td>\n",
       "      <td>1</td>\n",
       "      <td>0</td>\n",
       "      <td>0</td>\n",
       "      <td>ByBirth</td>\n",
       "      <td>280</td>\n",
       "      <td>824</td>\n",
       "      <td>1</td>\n",
       "    </tr>\n",
       "    <tr>\n",
       "      <th>3</th>\n",
       "      <td>1</td>\n",
       "      <td>27.83</td>\n",
       "      <td>1.540</td>\n",
       "      <td>1</td>\n",
       "      <td>1</td>\n",
       "      <td>Industrials</td>\n",
       "      <td>White</td>\n",
       "      <td>3.75</td>\n",
       "      <td>1</td>\n",
       "      <td>1</td>\n",
       "      <td>5</td>\n",
       "      <td>ByBirth</td>\n",
       "      <td>100</td>\n",
       "      <td>3</td>\n",
       "      <td>1</td>\n",
       "    </tr>\n",
       "    <tr>\n",
       "      <th>4</th>\n",
       "      <td>1</td>\n",
       "      <td>20.17</td>\n",
       "      <td>5.625</td>\n",
       "      <td>1</td>\n",
       "      <td>1</td>\n",
       "      <td>Industrials</td>\n",
       "      <td>White</td>\n",
       "      <td>1.71</td>\n",
       "      <td>1</td>\n",
       "      <td>0</td>\n",
       "      <td>0</td>\n",
       "      <td>ByOtherMeans</td>\n",
       "      <td>120</td>\n",
       "      <td>0</td>\n",
       "      <td>1</td>\n",
       "    </tr>\n",
       "  </tbody>\n",
       "</table>\n",
       "</div>"
      ],
      "text/plain": [
       "   Gender    Age   Debt  Married  BankCustomer     Industry Ethnicity  \\\n",
       "0       1  30.83  0.000        1             1  Industrials     White   \n",
       "1       0  58.67  4.460        1             1    Materials     Black   \n",
       "2       0  24.50  0.500        1             1    Materials     Black   \n",
       "3       1  27.83  1.540        1             1  Industrials     White   \n",
       "4       1  20.17  5.625        1             1  Industrials     White   \n",
       "\n",
       "   YearsEmployed  PriorDefault  Employed  CreditScore       Citizen  ZipCode  \\\n",
       "0           1.25             1         1            1       ByBirth      202   \n",
       "1           3.04             1         1            6       ByBirth       43   \n",
       "2           1.50             1         0            0       ByBirth      280   \n",
       "3           3.75             1         1            5       ByBirth      100   \n",
       "4           1.71             1         0            0  ByOtherMeans      120   \n",
       "\n",
       "   Income  Approved  \n",
       "0       0         1  \n",
       "1     560         1  \n",
       "2     824         1  \n",
       "3       3         1  \n",
       "4       0         1  "
      ]
     },
     "execution_count": 28,
     "metadata": {},
     "output_type": "execute_result"
    }
   ],
   "source": [
    "#Eliminamos la columna DriversLicense\n",
    "\n",
    "df.drop(\"DriversLicense\", axis=1, inplace=True) \n",
    "#Axis 1 hace referencia a la columna. Inplace quiere decir que se haga en el propio dataframe\n",
    "df.head()"
   ]
  },
  {
   "cell_type": "code",
   "execution_count": 29,
   "id": "afbba0ef",
   "metadata": {},
   "outputs": [
    {
     "data": {
      "text/html": [
       "<div>\n",
       "<style scoped>\n",
       "    .dataframe tbody tr th:only-of-type {\n",
       "        vertical-align: middle;\n",
       "    }\n",
       "\n",
       "    .dataframe tbody tr th {\n",
       "        vertical-align: top;\n",
       "    }\n",
       "\n",
       "    .dataframe thead th {\n",
       "        text-align: right;\n",
       "    }\n",
       "</style>\n",
       "<table border=\"1\" class=\"dataframe\">\n",
       "  <thead>\n",
       "    <tr style=\"text-align: right;\">\n",
       "      <th></th>\n",
       "      <th>Industry</th>\n",
       "      <th>Ethnicity</th>\n",
       "      <th>Citizen</th>\n",
       "    </tr>\n",
       "  </thead>\n",
       "  <tbody>\n",
       "    <tr>\n",
       "      <th>count</th>\n",
       "      <td>690</td>\n",
       "      <td>690</td>\n",
       "      <td>690</td>\n",
       "    </tr>\n",
       "    <tr>\n",
       "      <th>unique</th>\n",
       "      <td>14</td>\n",
       "      <td>5</td>\n",
       "      <td>3</td>\n",
       "    </tr>\n",
       "    <tr>\n",
       "      <th>top</th>\n",
       "      <td>Energy</td>\n",
       "      <td>White</td>\n",
       "      <td>ByBirth</td>\n",
       "    </tr>\n",
       "    <tr>\n",
       "      <th>freq</th>\n",
       "      <td>146</td>\n",
       "      <td>408</td>\n",
       "      <td>625</td>\n",
       "    </tr>\n",
       "  </tbody>\n",
       "</table>\n",
       "</div>"
      ],
      "text/plain": [
       "       Industry Ethnicity  Citizen\n",
       "count       690       690      690\n",
       "unique       14         5        3\n",
       "top      Energy     White  ByBirth\n",
       "freq        146       408      625"
      ]
     },
     "execution_count": 29,
     "metadata": {},
     "output_type": "execute_result"
    }
   ],
   "source": [
    "#Transformar las características categóricas:\n",
    "\n",
    "df.describe(include=['O']) # Este include es para mostrar las variable categóricas"
   ]
  },
  {
   "cell_type": "markdown",
   "id": "aab26be8",
   "metadata": {},
   "source": [
    "Se puede observar que para Industria hay 14 valores únicos, para Etnia 5 y para Ciudadania 3.\n",
    "Vamos a profundizar un poco mas y vamos a ver cuales son estos valores únicos."
   ]
  },
  {
   "cell_type": "code",
   "execution_count": 30,
   "id": "d396bfb7",
   "metadata": {},
   "outputs": [
    {
     "data": {
      "text/plain": [
       "<AxesSubplot:>"
      ]
     },
     "execution_count": 30,
     "metadata": {},
     "output_type": "execute_result"
    },
    {
     "data": {
      "image/png": "[encoded data removed]",
      "text/plain": [
       "<Figure size 432x288 with 1 Axes>"
      ]
     },
     "metadata": {
      "needs_background": "light"
     },
     "output_type": "display_data"
    }
   ],
   "source": [
    "df['Industry'].value_counts().plot(kind='bar')"
   ]
  },
  {
   "cell_type": "code",
   "execution_count": 31,
   "id": "3d3bb42c",
   "metadata": {},
   "outputs": [
    {
     "data": {
      "text/plain": [
       "<AxesSubplot:>"
      ]
     },
     "execution_count": 31,
     "metadata": {},
     "output_type": "execute_result"
    },
    {
     "data": {
      "image/png": "[encoded data removed]",
      "text/plain": [
       "<Figure size 432x288 with 1 Axes>"
      ]
     },
     "metadata": {
      "needs_background": "light"
     },
     "output_type": "display_data"
    }
   ],
   "source": [
    "df['Ethnicity'].value_counts().plot(kind='bar')"
   ]
  },
  {
   "cell_type": "code",
   "execution_count": 32,
   "id": "20d9c99f",
   "metadata": {},
   "outputs": [
    {
     "data": {
      "text/plain": [
       "<AxesSubplot:>"
      ]
     },
     "execution_count": 32,
     "metadata": {},
     "output_type": "execute_result"
    },
    {
     "data": {
      "image/png": "[encoded data removed]",
      "text/plain": [
       "<Figure size 432x288 with 1 Axes>"
      ]
     },
     "metadata": {
      "needs_background": "light"
     },
     "output_type": "display_data"
    }
   ],
   "source": [
    "df['Citizen'].value_counts().plot(kind='bar')"
   ]
  },
  {
   "cell_type": "code",
   "execution_count": 33,
   "id": "c8f636ef",
   "metadata": {},
   "outputs": [
    {
     "name": "stdout",
     "output_type": "stream",
     "text": [
      "   Gender    Age   Debt  Married  BankCustomer  Industry  Ethnicity  \\\n",
      "0       1  30.83  0.000        1             1         7          4   \n",
      "1       0  58.67  4.460        1             1         9          1   \n",
      "2       0  24.50  0.500        1             1         9          1   \n",
      "3       1  27.83  1.540        1             1         7          4   \n",
      "4       1  20.17  5.625        1             1         7          4   \n",
      "\n",
      "   YearsEmployed  PriorDefault  Employed  CreditScore  Citizen  ZipCode  \\\n",
      "0           1.25             1         1            1        0      202   \n",
      "1           3.04             1         1            6        0       43   \n",
      "2           1.50             1         0            0        0      280   \n",
      "3           3.75             1         1            5        0      100   \n",
      "4           1.71             1         0            0        1      120   \n",
      "\n",
      "   Income  Approved  \n",
      "0       0         1  \n",
      "1     560         1  \n",
      "2     824         1  \n",
      "3       3         1  \n",
      "4       0         1  \n"
     ]
    }
   ],
   "source": [
    "#Vamos a convertir dichas características categóricas en númericas\n",
    "\n",
    "le = preprocessing.LabelEncoder()\n",
    "df['Industry'] = le.fit_transform(df.Industry.values)\n",
    "df['Ethnicity'] = le.fit_transform(df.Ethnicity.values)\n",
    "df['Citizen'] = le.fit_transform(df.Citizen.values)\n",
    "print(df.head())\n"
   ]
  },
  {
   "cell_type": "code",
   "execution_count": 34,
   "id": "c0a594d0",
   "metadata": {},
   "outputs": [
    {
     "name": "stdout",
     "output_type": "stream",
     "text": [
      "   Gender  Age   Debt  Married  BankCustomer  Industry  Ethnicity  \\\n",
      "0       1  3.0  0.000        1             1         7          4   \n",
      "1       0  6.0  4.460        1             1         9          1   \n",
      "2       0  2.0  0.500        1             1         9          1   \n",
      "3       1  2.0  1.540        1             1         7          4   \n",
      "4       1  1.0  5.625        1             1         7          4   \n",
      "\n",
      "   YearsEmployed  PriorDefault  Employed  CreditScore  Citizen  ZipCode  \\\n",
      "0           1.25             1         1            1        0      202   \n",
      "1           3.04             1         1            6        0       43   \n",
      "2           1.50             1         0            0        0      280   \n",
      "3           3.75             1         1            5        0      100   \n",
      "4           1.71             1         0            0        1      120   \n",
      "\n",
      "   Income  Approved  \n",
      "0       0         1  \n",
      "1     560         1  \n",
      "2     824         1  \n",
      "3       3         1  \n",
      "4       0         1  \n"
     ]
    },
    {
     "data": {
      "text/plain": [
       "<AxesSubplot:>"
      ]
     },
     "execution_count": 34,
     "metadata": {},
     "output_type": "execute_result"
    },
    {
     "data": {
      "image/png": "[encoded data removed]",
      "text/plain": [
       "<Figure size 432x288 with 1 Axes>"
      ]
     },
     "metadata": {
      "needs_background": "light"
     },
     "output_type": "display_data"
    }
   ],
   "source": [
    "#Comenzamos la agrupación en tramos\n",
    "#Edad\n",
    "\n",
    "df.loc[df['Age'] <= 16, 'Age'] = 0\n",
    "df.loc[(df['Age'] > 16) & (df['Age'] <= 22), 'Age'] = 1\n",
    "df.loc[(df['Age'] > 22) & (df['Age'] <= 28), 'Age'] = 2\n",
    "df.loc[(df['Age'] > 28) & (df['Age'] <= 35), 'Age'] = 3\n",
    "df.loc[(df['Age'] > 35) & (df['Age'] <= 45), 'Age'] = 4\n",
    "df.loc[(df['Age'] > 45) & (df['Age'] <= 55), 'Age'] = 5\n",
    "df.loc[(df['Age'] > 55) & (df['Age'] <= 65), 'Age'] = 6\n",
    "df.loc[(df['Age'] > 65), 'Age'] = 7\n",
    "\n",
    "print(df.head())\n",
    "df['Age'].value_counts().plot(kind='bar')\n"
   ]
  },
  {
   "cell_type": "code",
   "execution_count": 35,
   "id": "d26ccbe3",
   "metadata": {},
   "outputs": [
    {
     "data": {
      "text/plain": [
       "<AxesSubplot:>"
      ]
     },
     "execution_count": 35,
     "metadata": {},
     "output_type": "execute_result"
    },
    {
     "data": {
      "image/png": "[encoded data removed]",
      "text/plain": [
       "<Figure size 432x288 with 1 Axes>"
      ]
     },
     "metadata": {
      "needs_background": "light"
     },
     "output_type": "display_data"
    }
   ],
   "source": [
    "#Debt\n",
    "df['Debt'].value_counts().plot(kind='bar')\n",
    "#Observamos los datos originales para hacernois una idea de como agrupar los datos"
   ]
  },
  {
   "cell_type": "code",
   "execution_count": 36,
   "id": "0b5b7b01",
   "metadata": {},
   "outputs": [
    {
     "data": {
      "text/html": [
       "<div>\n",
       "<style scoped>\n",
       "    .dataframe tbody tr th:only-of-type {\n",
       "        vertical-align: middle;\n",
       "    }\n",
       "\n",
       "    .dataframe tbody tr th {\n",
       "        vertical-align: top;\n",
       "    }\n",
       "\n",
       "    .dataframe thead th {\n",
       "        text-align: right;\n",
       "    }\n",
       "</style>\n",
       "<table border=\"1\" class=\"dataframe\">\n",
       "  <thead>\n",
       "    <tr style=\"text-align: right;\">\n",
       "      <th></th>\n",
       "      <th>Gender</th>\n",
       "      <th>Age</th>\n",
       "      <th>Debt</th>\n",
       "      <th>Married</th>\n",
       "      <th>BankCustomer</th>\n",
       "      <th>Industry</th>\n",
       "      <th>Ethnicity</th>\n",
       "      <th>YearsEmployed</th>\n",
       "      <th>PriorDefault</th>\n",
       "      <th>Employed</th>\n",
       "      <th>CreditScore</th>\n",
       "      <th>Citizen</th>\n",
       "      <th>ZipCode</th>\n",
       "      <th>Income</th>\n",
       "      <th>Approved</th>\n",
       "    </tr>\n",
       "  </thead>\n",
       "  <tbody>\n",
       "    <tr>\n",
       "      <th>0</th>\n",
       "      <td>1</td>\n",
       "      <td>3.0</td>\n",
       "      <td>0.0</td>\n",
       "      <td>1</td>\n",
       "      <td>1</td>\n",
       "      <td>7</td>\n",
       "      <td>4</td>\n",
       "      <td>1.25</td>\n",
       "      <td>1</td>\n",
       "      <td>1</td>\n",
       "      <td>1</td>\n",
       "      <td>0</td>\n",
       "      <td>202</td>\n",
       "      <td>0</td>\n",
       "      <td>1</td>\n",
       "    </tr>\n",
       "    <tr>\n",
       "      <th>1</th>\n",
       "      <td>0</td>\n",
       "      <td>6.0</td>\n",
       "      <td>1.0</td>\n",
       "      <td>1</td>\n",
       "      <td>1</td>\n",
       "      <td>9</td>\n",
       "      <td>1</td>\n",
       "      <td>3.04</td>\n",
       "      <td>1</td>\n",
       "      <td>1</td>\n",
       "      <td>6</td>\n",
       "      <td>0</td>\n",
       "      <td>43</td>\n",
       "      <td>560</td>\n",
       "      <td>1</td>\n",
       "    </tr>\n",
       "    <tr>\n",
       "      <th>2</th>\n",
       "      <td>0</td>\n",
       "      <td>2.0</td>\n",
       "      <td>0.0</td>\n",
       "      <td>1</td>\n",
       "      <td>1</td>\n",
       "      <td>9</td>\n",
       "      <td>1</td>\n",
       "      <td>1.50</td>\n",
       "      <td>1</td>\n",
       "      <td>0</td>\n",
       "      <td>0</td>\n",
       "      <td>0</td>\n",
       "      <td>280</td>\n",
       "      <td>824</td>\n",
       "      <td>1</td>\n",
       "    </tr>\n",
       "    <tr>\n",
       "      <th>3</th>\n",
       "      <td>1</td>\n",
       "      <td>2.0</td>\n",
       "      <td>0.0</td>\n",
       "      <td>1</td>\n",
       "      <td>1</td>\n",
       "      <td>7</td>\n",
       "      <td>4</td>\n",
       "      <td>3.75</td>\n",
       "      <td>1</td>\n",
       "      <td>1</td>\n",
       "      <td>5</td>\n",
       "      <td>0</td>\n",
       "      <td>100</td>\n",
       "      <td>3</td>\n",
       "      <td>1</td>\n",
       "    </tr>\n",
       "    <tr>\n",
       "      <th>4</th>\n",
       "      <td>1</td>\n",
       "      <td>1.0</td>\n",
       "      <td>2.0</td>\n",
       "      <td>1</td>\n",
       "      <td>1</td>\n",
       "      <td>7</td>\n",
       "      <td>4</td>\n",
       "      <td>1.71</td>\n",
       "      <td>1</td>\n",
       "      <td>0</td>\n",
       "      <td>0</td>\n",
       "      <td>1</td>\n",
       "      <td>120</td>\n",
       "      <td>0</td>\n",
       "      <td>1</td>\n",
       "    </tr>\n",
       "  </tbody>\n",
       "</table>\n",
       "</div>"
      ],
      "text/plain": [
       "   Gender  Age  Debt  Married  BankCustomer  Industry  Ethnicity  \\\n",
       "0       1  3.0   0.0        1             1         7          4   \n",
       "1       0  6.0   1.0        1             1         9          1   \n",
       "2       0  2.0   0.0        1             1         9          1   \n",
       "3       1  2.0   0.0        1             1         7          4   \n",
       "4       1  1.0   2.0        1             1         7          4   \n",
       "\n",
       "   YearsEmployed  PriorDefault  Employed  CreditScore  Citizen  ZipCode  \\\n",
       "0           1.25             1         1            1        0      202   \n",
       "1           3.04             1         1            6        0       43   \n",
       "2           1.50             1         0            0        0      280   \n",
       "3           3.75             1         1            5        0      100   \n",
       "4           1.71             1         0            0        1      120   \n",
       "\n",
       "   Income  Approved  \n",
       "0       0         1  \n",
       "1     560         1  \n",
       "2     824         1  \n",
       "3       3         1  \n",
       "4       0         1  "
      ]
     },
     "execution_count": 36,
     "metadata": {},
     "output_type": "execute_result"
    },
    {
     "data": {
      "image/png": "[encoded data removed]",
      "text/plain": [
       "<Figure size 432x288 with 1 Axes>"
      ]
     },
     "metadata": {
      "needs_background": "light"
     },
     "output_type": "display_data"
    }
   ],
   "source": [
    "#En base a la gráfica anterior, decido agruparlos en tramos de 2.5\n",
    "df.loc[(df['Debt'] >=0) & (df['Debt'] <= 2.5), 'Debt'] = 0\n",
    "df.loc[(df['Debt'] >2.5) & (df['Debt'] <= 5), 'Debt'] = 1\n",
    "df.loc[(df['Debt'] >5) & (df['Debt'] <= 7.5), 'Debt'] = 2\n",
    "df.loc[(df['Debt'] >7.5) & (df['Debt'] <= 10), 'Debt'] = 3\n",
    "df.loc[(df['Debt'] >10) & (df['Debt'] <= 12.5), 'Debt'] = 4\n",
    "df.loc[(df['Debt'] >12.5) & (df['Debt'] <= 15), 'Debt'] = 5\n",
    "df.loc[(df['Debt'] >15) & (df['Debt'] <= 17.5), 'Debt'] = 6\n",
    "df.loc[(df['Debt'] > 17.5), 'Debt'] = 7\n",
    "#comprobamos el resultado\n",
    "\n",
    "df['Debt'].value_counts().plot(kind='bar')\n",
    "df.head()\n"
   ]
  },
  {
   "cell_type": "code",
   "execution_count": 37,
   "id": "c9e26aa0",
   "metadata": {},
   "outputs": [
    {
     "data": {
      "text/html": [
       "<div>\n",
       "<style scoped>\n",
       "    .dataframe tbody tr th:only-of-type {\n",
       "        vertical-align: middle;\n",
       "    }\n",
       "\n",
       "    .dataframe tbody tr th {\n",
       "        vertical-align: top;\n",
       "    }\n",
       "\n",
       "    .dataframe thead th {\n",
       "        text-align: right;\n",
       "    }\n",
       "</style>\n",
       "<table border=\"1\" class=\"dataframe\">\n",
       "  <thead>\n",
       "    <tr style=\"text-align: right;\">\n",
       "      <th></th>\n",
       "      <th>Gender</th>\n",
       "      <th>Age</th>\n",
       "      <th>Debt</th>\n",
       "      <th>Married</th>\n",
       "      <th>BankCustomer</th>\n",
       "      <th>Industry</th>\n",
       "      <th>Ethnicity</th>\n",
       "      <th>YearsEmployed</th>\n",
       "      <th>PriorDefault</th>\n",
       "      <th>Employed</th>\n",
       "      <th>CreditScore</th>\n",
       "      <th>Citizen</th>\n",
       "      <th>ZipCode</th>\n",
       "      <th>Income</th>\n",
       "      <th>Approved</th>\n",
       "    </tr>\n",
       "  </thead>\n",
       "  <tbody>\n",
       "    <tr>\n",
       "      <th>0</th>\n",
       "      <td>1</td>\n",
       "      <td>3.0</td>\n",
       "      <td>0.0</td>\n",
       "      <td>1</td>\n",
       "      <td>1</td>\n",
       "      <td>7</td>\n",
       "      <td>4</td>\n",
       "      <td>1</td>\n",
       "      <td>1</td>\n",
       "      <td>1</td>\n",
       "      <td>1</td>\n",
       "      <td>0</td>\n",
       "      <td>202</td>\n",
       "      <td>0</td>\n",
       "      <td>1</td>\n",
       "    </tr>\n",
       "    <tr>\n",
       "      <th>1</th>\n",
       "      <td>0</td>\n",
       "      <td>6.0</td>\n",
       "      <td>1.0</td>\n",
       "      <td>1</td>\n",
       "      <td>1</td>\n",
       "      <td>9</td>\n",
       "      <td>1</td>\n",
       "      <td>3</td>\n",
       "      <td>1</td>\n",
       "      <td>1</td>\n",
       "      <td>6</td>\n",
       "      <td>0</td>\n",
       "      <td>43</td>\n",
       "      <td>560</td>\n",
       "      <td>1</td>\n",
       "    </tr>\n",
       "    <tr>\n",
       "      <th>2</th>\n",
       "      <td>0</td>\n",
       "      <td>2.0</td>\n",
       "      <td>0.0</td>\n",
       "      <td>1</td>\n",
       "      <td>1</td>\n",
       "      <td>9</td>\n",
       "      <td>1</td>\n",
       "      <td>1</td>\n",
       "      <td>1</td>\n",
       "      <td>0</td>\n",
       "      <td>0</td>\n",
       "      <td>0</td>\n",
       "      <td>280</td>\n",
       "      <td>824</td>\n",
       "      <td>1</td>\n",
       "    </tr>\n",
       "    <tr>\n",
       "      <th>3</th>\n",
       "      <td>1</td>\n",
       "      <td>2.0</td>\n",
       "      <td>0.0</td>\n",
       "      <td>1</td>\n",
       "      <td>1</td>\n",
       "      <td>7</td>\n",
       "      <td>4</td>\n",
       "      <td>3</td>\n",
       "      <td>1</td>\n",
       "      <td>1</td>\n",
       "      <td>5</td>\n",
       "      <td>0</td>\n",
       "      <td>100</td>\n",
       "      <td>3</td>\n",
       "      <td>1</td>\n",
       "    </tr>\n",
       "    <tr>\n",
       "      <th>4</th>\n",
       "      <td>1</td>\n",
       "      <td>1.0</td>\n",
       "      <td>2.0</td>\n",
       "      <td>1</td>\n",
       "      <td>1</td>\n",
       "      <td>7</td>\n",
       "      <td>4</td>\n",
       "      <td>1</td>\n",
       "      <td>1</td>\n",
       "      <td>0</td>\n",
       "      <td>0</td>\n",
       "      <td>1</td>\n",
       "      <td>120</td>\n",
       "      <td>0</td>\n",
       "      <td>1</td>\n",
       "    </tr>\n",
       "  </tbody>\n",
       "</table>\n",
       "</div>"
      ],
      "text/plain": [
       "   Gender  Age  Debt  Married  BankCustomer  Industry  Ethnicity  \\\n",
       "0       1  3.0   0.0        1             1         7          4   \n",
       "1       0  6.0   1.0        1             1         9          1   \n",
       "2       0  2.0   0.0        1             1         9          1   \n",
       "3       1  2.0   0.0        1             1         7          4   \n",
       "4       1  1.0   2.0        1             1         7          4   \n",
       "\n",
       "   YearsEmployed  PriorDefault  Employed  CreditScore  Citizen  ZipCode  \\\n",
       "0              1             1         1            1        0      202   \n",
       "1              3             1         1            6        0       43   \n",
       "2              1             1         0            0        0      280   \n",
       "3              3             1         1            5        0      100   \n",
       "4              1             1         0            0        1      120   \n",
       "\n",
       "   Income  Approved  \n",
       "0       0         1  \n",
       "1     560         1  \n",
       "2     824         1  \n",
       "3       3         1  \n",
       "4       0         1  "
      ]
     },
     "execution_count": 37,
     "metadata": {},
     "output_type": "execute_result"
    }
   ],
   "source": [
    "#Para years employed simplemente vamos a truncar el valor\n",
    "\n",
    "df[\"YearsEmployed\"] = df[\"YearsEmployed\"].astype(int)\n",
    "df.head()"
   ]
  },
  {
   "cell_type": "code",
   "execution_count": 38,
   "id": "f646f904",
   "metadata": {},
   "outputs": [
    {
     "name": "stdout",
     "output_type": "stream",
     "text": [
      "count       690.000000\n",
      "mean       1017.385507\n",
      "std        5210.102598\n",
      "min           0.000000\n",
      "25%           0.000000\n",
      "50%           5.000000\n",
      "75%         395.500000\n",
      "max      100000.000000\n",
      "Name: Income, dtype: float64\n"
     ]
    },
    {
     "data": {
      "text/html": [
       "<div>\n",
       "<style scoped>\n",
       "    .dataframe tbody tr th:only-of-type {\n",
       "        vertical-align: middle;\n",
       "    }\n",
       "\n",
       "    .dataframe tbody tr th {\n",
       "        vertical-align: top;\n",
       "    }\n",
       "\n",
       "    .dataframe thead th {\n",
       "        text-align: right;\n",
       "    }\n",
       "</style>\n",
       "<table border=\"1\" class=\"dataframe\">\n",
       "  <thead>\n",
       "    <tr style=\"text-align: right;\">\n",
       "      <th></th>\n",
       "      <th>Gender</th>\n",
       "      <th>Age</th>\n",
       "      <th>Debt</th>\n",
       "      <th>Married</th>\n",
       "      <th>BankCustomer</th>\n",
       "      <th>Industry</th>\n",
       "      <th>Ethnicity</th>\n",
       "      <th>YearsEmployed</th>\n",
       "      <th>PriorDefault</th>\n",
       "      <th>Employed</th>\n",
       "      <th>CreditScore</th>\n",
       "      <th>Citizen</th>\n",
       "      <th>ZipCode</th>\n",
       "      <th>Income</th>\n",
       "      <th>Approved</th>\n",
       "    </tr>\n",
       "  </thead>\n",
       "  <tbody>\n",
       "    <tr>\n",
       "      <th>0</th>\n",
       "      <td>1</td>\n",
       "      <td>3.0</td>\n",
       "      <td>0.0</td>\n",
       "      <td>1</td>\n",
       "      <td>1</td>\n",
       "      <td>7</td>\n",
       "      <td>4</td>\n",
       "      <td>1</td>\n",
       "      <td>1</td>\n",
       "      <td>1</td>\n",
       "      <td>1</td>\n",
       "      <td>0</td>\n",
       "      <td>202</td>\n",
       "      <td>0</td>\n",
       "      <td>1</td>\n",
       "    </tr>\n",
       "    <tr>\n",
       "      <th>1</th>\n",
       "      <td>0</td>\n",
       "      <td>6.0</td>\n",
       "      <td>1.0</td>\n",
       "      <td>1</td>\n",
       "      <td>1</td>\n",
       "      <td>9</td>\n",
       "      <td>1</td>\n",
       "      <td>3</td>\n",
       "      <td>1</td>\n",
       "      <td>1</td>\n",
       "      <td>6</td>\n",
       "      <td>0</td>\n",
       "      <td>43</td>\n",
       "      <td>3</td>\n",
       "      <td>1</td>\n",
       "    </tr>\n",
       "    <tr>\n",
       "      <th>2</th>\n",
       "      <td>0</td>\n",
       "      <td>2.0</td>\n",
       "      <td>0.0</td>\n",
       "      <td>1</td>\n",
       "      <td>1</td>\n",
       "      <td>9</td>\n",
       "      <td>1</td>\n",
       "      <td>1</td>\n",
       "      <td>1</td>\n",
       "      <td>0</td>\n",
       "      <td>0</td>\n",
       "      <td>0</td>\n",
       "      <td>280</td>\n",
       "      <td>4</td>\n",
       "      <td>1</td>\n",
       "    </tr>\n",
       "    <tr>\n",
       "      <th>3</th>\n",
       "      <td>1</td>\n",
       "      <td>2.0</td>\n",
       "      <td>0.0</td>\n",
       "      <td>1</td>\n",
       "      <td>1</td>\n",
       "      <td>7</td>\n",
       "      <td>4</td>\n",
       "      <td>3</td>\n",
       "      <td>1</td>\n",
       "      <td>1</td>\n",
       "      <td>5</td>\n",
       "      <td>0</td>\n",
       "      <td>100</td>\n",
       "      <td>1</td>\n",
       "      <td>1</td>\n",
       "    </tr>\n",
       "    <tr>\n",
       "      <th>4</th>\n",
       "      <td>1</td>\n",
       "      <td>1.0</td>\n",
       "      <td>2.0</td>\n",
       "      <td>1</td>\n",
       "      <td>1</td>\n",
       "      <td>7</td>\n",
       "      <td>4</td>\n",
       "      <td>1</td>\n",
       "      <td>1</td>\n",
       "      <td>0</td>\n",
       "      <td>0</td>\n",
       "      <td>1</td>\n",
       "      <td>120</td>\n",
       "      <td>0</td>\n",
       "      <td>1</td>\n",
       "    </tr>\n",
       "  </tbody>\n",
       "</table>\n",
       "</div>"
      ],
      "text/plain": [
       "   Gender  Age  Debt  Married  BankCustomer  Industry  Ethnicity  \\\n",
       "0       1  3.0   0.0        1             1         7          4   \n",
       "1       0  6.0   1.0        1             1         9          1   \n",
       "2       0  2.0   0.0        1             1         9          1   \n",
       "3       1  2.0   0.0        1             1         7          4   \n",
       "4       1  1.0   2.0        1             1         7          4   \n",
       "\n",
       "   YearsEmployed  PriorDefault  Employed  CreditScore  Citizen  ZipCode  \\\n",
       "0              1             1         1            1        0      202   \n",
       "1              3             1         1            6        0       43   \n",
       "2              1             1         0            0        0      280   \n",
       "3              3             1         1            5        0      100   \n",
       "4              1             1         0            0        1      120   \n",
       "\n",
       "   Income  Approved  \n",
       "0       0         1  \n",
       "1       3         1  \n",
       "2       4         1  \n",
       "3       1         1  \n",
       "4       0         1  "
      ]
     },
     "execution_count": 38,
     "metadata": {},
     "output_type": "execute_result"
    },
    {
     "data": {
      "image/png": "[encoded data removed]",
      "text/plain": [
       "<Figure size 432x288 with 1 Axes>"
      ]
     },
     "metadata": {
      "needs_background": "light"
     },
     "output_type": "display_data"
    }
   ],
   "source": [
    "#Income\n",
    "print(df[\"Income\"].describe())\n",
    "\n",
    "df.loc[(df['Income'] ==0) , 'Income'] = 0\n",
    "df.loc[(df['Income'] > 0) & (df['Income'] <= 250), 'Income'] = 1\n",
    "df.loc[(df['Income'] > 250) & (df['Income'] <= 500), 'Income'] = 2\n",
    "df.loc[(df['Income'] > 500) & (df['Income'] <= 750), 'Income'] = 3\n",
    "df.loc[(df['Income'] > 750) & (df['Income'] <= 1000), 'Income'] = 4\n",
    "df.loc[(df['Income'] > 1000) & (df['Income'] <= 1250), 'Income'] = 5\n",
    "df.loc[(df['Income'] > 1250) & (df['Income'] <= 1500), 'Income'] = 6\n",
    "df.loc[(df['Income'] > 1500) & (df['Income'] <= 1750), 'Income'] = 7\n",
    "df.loc[(df['Income'] > 1750) & (df['Income'] <= 2000), 'Income'] = 8\n",
    "df.loc[(df['Income'] > 2000) & (df['Income'] <= 2250), 'Income'] = 9\n",
    "df.loc[(df['Income'] > 2250) & (df['Income'] <= 2500), 'Income'] = 10\n",
    "df.loc[(df['Income'] > 2500) & (df['Income'] <= 2750), 'Income'] = 11\n",
    "df.loc[(df['Income'] > 2750) & (df['Income'] <= 3000), 'Income'] = 12\n",
    "df.loc[(df['Income'] > 3000) & (df['Income'] <= 3250), 'Income'] = 13\n",
    "df.loc[(df['Income'] > 3250) & (df['Income'] <= 3500), 'Income'] = 14\n",
    "df.loc[(df['Income'] > 3500) & (df['Income'] <= 3750), 'Income'] = 15\n",
    "df.loc[(df['Income'] > 3750) & (df['Income'] <= 4000), 'Income'] = 16\n",
    "df.loc[(df['Income'] > 4000) & (df['Income'] <= 4250), 'Income'] = 17\n",
    "df.loc[(df['Income'] > 3000) , 'Income'] = 18\n",
    "\n",
    "df['Income'].value_counts().plot(kind='bar')\n",
    "df.head()\n"
   ]
  },
  {
   "cell_type": "code",
   "execution_count": 39,
   "id": "e25cdbff",
   "metadata": {},
   "outputs": [
    {
     "name": "stdout",
     "output_type": "stream",
     "text": [
      "   Gender  Age  Debt  Married  BankCustomer  Industry  Ethnicity  \\\n",
      "0       1  3.0   0.0        1             1         7          4   \n",
      "1       0  6.0   1.0        1             1         9          1   \n",
      "2       0  2.0   0.0        1             1         9          1   \n",
      "3       1  2.0   0.0        1             1         7          4   \n",
      "4       1  1.0   2.0        1             1         7          4   \n",
      "\n",
      "   YearsEmployed  PriorDefault  Employed  CreditScore  Citizen  ZipCode  \\\n",
      "0              1             1         1            1        0        2   \n",
      "1              3             1         1            6        0        4   \n",
      "2              1             1         0            0        0        2   \n",
      "3              3             1         1            5        0        1   \n",
      "4              1             1         0            0        1        1   \n",
      "\n",
      "   Income  Approved  \n",
      "0       0         1  \n",
      "1       3         1  \n",
      "2       4         1  \n",
      "3       1         1  \n",
      "4       0         1  \n"
     ]
    }
   ],
   "source": [
    "#Para agrupar los ZipCodes, simplemente nos quedamos con el primer dígito\n",
    "\n",
    "df['ZipCode'] = df.ZipCode.astype(str).str[:1]\n",
    "df[\"ZipCode\"] = df[\"ZipCode\"].astype(int)\n",
    "print(df.head())"
   ]
  },
  {
   "cell_type": "markdown",
   "id": "98daf50d",
   "metadata": {},
   "source": [
    "Una vez limpiado y ajustado el dataset, podemos pasar a las predicciones"
   ]
  },
  {
   "cell_type": "code",
   "execution_count": 40,
   "id": "b772dd21",
   "metadata": {},
   "outputs": [
    {
     "name": "stdout",
     "output_type": "stream",
     "text": [
      "Hay 552 registros en el set de train y 138 registros en el set de test\n"
     ]
    }
   ],
   "source": [
    "#Dividimos el dataset en train y test y dividimos 80/20 el train/test\n",
    "\n",
    "\n",
    "x = df[[\"Gender\", \"Age\", \"Debt\", \"Married\", \"BankCustomer\", \"Industry\", \"Ethnicity\", \"YearsEmployed\", \"PriorDefault\", \"Employed\", \"CreditScore\", \"Citizen\", \"ZipCode\", \"Income\"]]\n",
    "y = df[\"Approved\"]\n",
    "\n",
    "\n",
    "\n",
    "X_train, X_test, y_train, y_test = train_test_split(x, \n",
    "                                                    y, \n",
    "                                                    test_size = 0.2, \n",
    "                                                    random_state=20)\n",
    "\n",
    "print(\"Hay {} registros en el set de train y {} registros en el set de test\".format(X_train.shape[0], X_test.shape[0]))"
   ]
  },
  {
   "cell_type": "code",
   "execution_count": 41,
   "id": "d4509872",
   "metadata": {},
   "outputs": [
    {
     "name": "stdout",
     "output_type": "stream",
     "text": [
      "Train Accuracy: 0.862\n",
      "Test Accuracy (pre-predicción): 0.870\n"
     ]
    }
   ],
   "source": [
    "#Regresion logistica\n",
    "\n",
    "# Definimos el modelo, en este caso un modelo de regresión logisitca\n",
    "model = LogisticRegression(max_iter=200)\n",
    "\n",
    "# Entrenamos el modelo\n",
    "model.fit(X_train, y_train)\n",
    "\n",
    "# Comprobamos las metricas tras el entrenamiento\n",
    "print(\"Train Accuracy: {:.3f}\".format(model.score(X_train, y_train)))\n",
    "print(\"Test Accuracy (pre-predicción): {:.3f}\".format(model.score(X_test, y_test)))"
   ]
  },
  {
   "cell_type": "code",
   "execution_count": 42,
   "id": "b380ef8b",
   "metadata": {},
   "outputs": [
    {
     "name": "stdout",
     "output_type": "stream",
     "text": [
      "Accuracy of K-NN classifier on training set: 0.80\n",
      "Accuracy of K-NN classifier on test set: 0.73\n"
     ]
    }
   ],
   "source": [
    "#KNN\n",
    "n_neighbors = 7\n",
    "\n",
    "knn = KNeighborsClassifier(n_neighbors)\n",
    "knn.fit(X_train, y_train)\n",
    "print('Accuracy of K-NN classifier on training set: {:.2f}'\n",
    "     .format(knn.score(X_train, y_train)))\n",
    "print('Accuracy of K-NN classifier on test set: {:.2f}'\n",
    "     .format(knn.score(X_test, y_test)))\n"
   ]
  },
  {
   "cell_type": "code",
   "execution_count": 47,
   "id": "70b4111c",
   "metadata": {},
   "outputs": [
    {
     "name": "stdout",
     "output_type": "stream",
     "text": [
      "              precision    recall  f1-score   support\n",
      "\n",
      "           0       0.76      0.88      0.81        74\n",
      "           1       0.83      0.67      0.74        64\n",
      "\n",
      "    accuracy                           0.78       138\n",
      "   macro avg       0.79      0.78      0.78       138\n",
      "weighted avg       0.79      0.78      0.78       138\n",
      "\n"
     ]
    }
   ],
   "source": [
    "#SVM\n",
    "modelo = SVC(gamma='auto')\n",
    "modelo.fit(X_train,y_train)\n",
    "predicciones = modelo.predict(X_test)\n",
    "print(classification_report(y_test, predicciones))\n",
    "\n"
   ]
  },
  {
   "cell_type": "code",
   "execution_count": 44,
   "id": "f9a18154",
   "metadata": {},
   "outputs": [
    {
     "name": "stdout",
     "output_type": "stream",
     "text": [
      "building tree 1 of 100\n",
      "building tree 2 of 100\n",
      "building tree 3 of 100\n",
      "building tree 4 of 100\n",
      "building tree 5 of 100\n",
      "building tree 6 of 100\n",
      "building tree 7 of 100\n",
      "building tree 8 of 100\n",
      "building tree 9 of 100\n",
      "building tree 10 of 100\n",
      "building tree 11 of 100\n",
      "building tree 12 of 100\n",
      "building tree 13 of 100\n",
      "building tree 14 of 100\n",
      "building tree 15 of 100\n",
      "building tree 16 of 100\n",
      "building tree 17 of 100\n",
      "building tree 18 of 100\n",
      "building tree 19 of 100\n",
      "building tree 20 of 100\n",
      "building tree 21 of 100\n",
      "building tree 22 of 100\n",
      "building tree 23 of 100\n",
      "building tree 24 of 100\n",
      "building tree 25 of 100\n",
      "building tree 26 of 100\n",
      "building tree 27 of 100\n",
      "building tree 28 of 100\n",
      "building tree 29 of 100\n",
      "building tree 30 of 100\n",
      "building tree 31 of 100\n",
      "building tree 32 of 100\n",
      "building tree 33 of 100\n",
      "building tree 34 of 100\n",
      "building tree 35 of 100\n",
      "building tree 36 of 100\n",
      "building tree 37 of 100\n",
      "building tree 38 of 100\n",
      "building tree 39 of 100\n",
      "building tree 40 of 100\n",
      "building tree 41 of 100\n",
      "building tree 42 of 100\n",
      "building tree 43 of 100\n",
      "building tree 44 of 100\n",
      "building tree 45 of 100\n",
      "building tree 46 of 100\n",
      "building tree 47 of 100\n",
      "building tree 48 of 100\n",
      "building tree 49 of 100\n",
      "building tree 50 of 100\n",
      "building tree 51 of 100\n",
      "building tree 52 of 100\n",
      "building tree 53 of 100\n",
      "building tree 54 of 100\n",
      "building tree 55 of 100\n",
      "building tree 56 of 100\n",
      "building tree 57 of 100\n",
      "building tree 58 of 100\n",
      "building tree 59 of 100\n",
      "building tree 60 of 100\n",
      "building tree 61 of 100\n",
      "building tree 62 of 100\n",
      "building tree 63 of 100\n",
      "building tree 64 of 100\n",
      "building tree 65 of 100\n",
      "building tree 66 of 100\n",
      "building tree 67 of 100\n",
      "building tree 68 of 100\n",
      "building tree 69 of 100\n",
      "building tree 70 of 100\n",
      "building tree 71 of 100\n",
      "building tree 72 of 100\n",
      "building tree 73 of 100\n",
      "building tree 74 of 100\n",
      "building tree 75 of 100\n",
      "building tree 76 of 100\n",
      "building tree 77 of 100\n",
      "building tree 78 of 100\n",
      "building tree 79 of 100\n",
      "building tree 80 of 100\n",
      "building tree 81 of 100\n",
      "building tree 82 of 100\n",
      "building tree 83 of 100\n",
      "building tree 84 of 100\n",
      "building tree 85 of 100\n",
      "building tree 86 of 100\n",
      "building tree 87 of 100\n",
      "building tree 88 of 100\n",
      "building tree 89 of 100\n",
      "building tree 90 of 100\n",
      "building tree 91 of 100\n",
      "building tree 92 of 100\n",
      "building tree 93 of 100\n",
      "building tree 94 of 100\n",
      "building tree 95 of 100\n",
      "building tree 96 of 100\n",
      "building tree 97 of 100\n",
      "building tree 98 of 100\n",
      "building tree 99 of 100\n",
      "building tree 100 of 100\n",
      "0.8646537162162162\n"
     ]
    },
    {
     "name": "stderr",
     "output_type": "stream",
     "text": [
      "[Parallel(n_jobs=1)]: Using backend SequentialBackend with 1 concurrent workers.\n",
      "[Parallel(n_jobs=1)]: Done   1 out of   1 | elapsed:    0.0s remaining:    0.0s\n",
      "[Parallel(n_jobs=1)]: Done 100 out of 100 | elapsed:    0.0s finished\n",
      "[Parallel(n_jobs=1)]: Using backend SequentialBackend with 1 concurrent workers.\n",
      "[Parallel(n_jobs=1)]: Done   1 out of   1 | elapsed:    0.0s remaining:    0.0s\n",
      "[Parallel(n_jobs=1)]: Done 100 out of 100 | elapsed:    0.0s finished\n"
     ]
    }
   ],
   "source": [
    "#RandomForest\n",
    "model = RandomForestClassifier(n_estimators=100, class_weight=\"balanced\",\n",
    "                               max_features = 'sqrt', verbose=2, max_depth=6,\n",
    "                               oob_score=True, random_state=50)\n",
    "# a entrenar\n",
    "model.fit(X_train, y_train)\n",
    "\n",
    "pred_y = model.predict(X_test)\n",
    "\n",
    "# Calculate roc auc\n",
    "roc_value = roc_auc_score(y_test, pred_y)\n",
    "print(roc_value)"
   ]
  },
  {
   "cell_type": "markdown",
   "id": "8d067393",
   "metadata": {},
   "source": [
    "Recopilación de resultados:\n",
    "\n",
    "-Random forest 86.4%\n",
    "-SVM           78%\n",
    "-KNN           73%\n",
    "-Reg.Log       87%"
   ]
  },
  {
   "cell_type": "markdown",
   "id": "cee9a0c2",
   "metadata": {},
   "source": [
    "A continuación vamos a crear varias visualizaciones para entender mejor los datos"
   ]
  },
  {
   "cell_type": "code",
   "execution_count": 45,
   "id": "bc3127fc",
   "metadata": {
    "scrolled": true
   },
   "outputs": [
    {
     "data": {
      "text/plain": [
       "<AxesSubplot:>"
      ]
     },
     "execution_count": 45,
     "metadata": {},
     "output_type": "execute_result"
    },
    {
     "data": {
      "image/png": "[encoded data removed]",
      "text/plain": [
       "<Figure size 432x288 with 2 Axes>"
      ]
     },
     "metadata": {
      "needs_background": "light"
     },
     "output_type": "display_data"
    }
   ],
   "source": [
    "#Creamos un heatmap, en el que se muestran las correlaciones entre datos.\n",
    "sns.heatmap(df.corr())"
   ]
  },
  {
   "cell_type": "code",
   "execution_count": 46,
   "id": "41dedcc3",
   "metadata": {},
   "outputs": [
    {
     "data": {
      "image/png": "[encoded data removed]",
      "text/plain": [
       "<Figure size 432x288 with 2 Axes>"
      ]
     },
     "metadata": {
      "needs_background": "light"
     },
     "output_type": "display_data"
    }
   ],
   "source": [
    "#Correlación en relación a la variable target (Approved)\n",
    "heatmap = sns.heatmap(df.corr()[['Approved']].sort_values(by='Approved', ascending=False), vmin=-1, vmax=1, annot=True, cmap='BrBG')"
   ]
  },
  {
   "cell_type": "markdown",
   "id": "b5bd4091",
   "metadata": {},
   "source": [
    "Se puede observar que hay tres factores que influyen en gran medida para que un préstamo sea concedido:\n",
    "-PriorDefault: es decir, si el individuo ha fallado a la hora de devolver el dinero en ocasiones anteriores es ams probable que no le concedan un préstamo\n",
    "-Employed: Si el individuo tiene empleo, es mas probable que le concedan un crédito\n",
    "-Credit Score: Cuanto mayor sea el credit score del individuo mas probabilidad de que se lo concedan"
   ]
  },
  {
   "cell_type": "code",
   "execution_count": null,
   "id": "eae98125",
   "metadata": {},
   "outputs": [],
   "source": []
  },
  {
   "cell_type": "code",
   "execution_count": null,
   "id": "5188498f",
   "metadata": {},
   "outputs": [],
   "source": []
  }
 ],
 "metadata": {
  "kernelspec": {
   "display_name": "Python 3 (ipykernel)",
   "language": "python",
   "name": "python3"
  },
  "language_info": {
   "codemirror_mode": {
    "name": "ipython",
    "version": 3
   },
   "file_extension": ".py",
   "mimetype": "text/x-python",
   "name": "python",
   "nbconvert_exporter": "python",
   "pygments_lexer": "ipython3",
   "version": "3.9.7"
  }
 },
 "nbformat": 4,
 "nbformat_minor": 5
}
